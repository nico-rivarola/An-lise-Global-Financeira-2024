{
 "cells": [
  {
   "cell_type": "code",
   "execution_count": 1,
   "id": "718099db",
   "metadata": {},
   "outputs": [],
   "source": [
    "import pandas as pd"
   ]
  },
  {
   "cell_type": "code",
   "execution_count": 2,
   "id": "bf3b22b9",
   "metadata": {},
   "outputs": [],
   "source": [
    "# Carregar o dataset completo\n",
    "df = pd.read_csv(\"Global-finance-data.csv\")"
   ]
  },
  {
   "cell_type": "code",
   "execution_count": null,
   "id": "1651a8f0",
   "metadata": {},
   "outputs": [],
   "source": [
    "# Verificar os nomes das colunas do DataFrame\n",
    "df.columns.tolist()"
   ]
  },
  {
   "cell_type": "code",
   "execution_count": 5,
   "id": "f5d7fbdf",
   "metadata": {},
   "outputs": [],
   "source": [
    "# Subtabela 1 - Market Data\n",
    "market_data = df[[\n",
    "    \"Country\",\"Date\",\"Stock_Index\",\"Index_Value\",\n",
    "    \"Daily_Change_Percent\",\"Market_Cap_Trillion_USD\",\"Bond_Yield_10Y_Percent\"\n",
    "]]\n",
    "market_data.to_csv(\"market_data.csv\", index=False)"
   ]
  },
  {
   "cell_type": "code",
   "execution_count": 6,
   "id": "0fed348e",
   "metadata": {},
   "outputs": [],
   "source": [
    "# Subtabela 2 - Economic Indicators\n",
    "economic_indicators = df[[\n",
    "    \"Country\",\"Date\",\"GDP_Growth_Rate_Percent\",\"Inflation_Rate_Percent\",\n",
    "    \"Interest_Rate_Percent\",\"Unemployment_Rate_Percent\",\n",
    "    \"Government_Debt_GDP_Percent\",\"Current_Account_Balance_Billion_USD\",\"FDI_Inflow_Billion_USD\"\n",
    "]]\n",
    "economic_indicators.to_csv(\"economic_indicators.csv\", index=False)\n"
   ]
  },
  {
   "cell_type": "code",
   "execution_count": 7,
   "id": "363665d7",
   "metadata": {},
   "outputs": [],
   "source": [
    "# Subtabela 3 - Commodities & Currency\n",
    "commodities_currency = df[[\n",
    "    \"Country\",\"Date\",\"Currency_Code\",\"Exchange_Rate_USD\",\n",
    "    \"Currency_Change_YTD_Percent\",\"Commodity_Index\",\n",
    "    \"Oil_Price_USD_Barrel\",\"Gold_Price_USD_Ounce\"\n",
    "]]\n",
    "commodities_currency.to_csv(\"commodities_currency.csv\", index=False)"
   ]
  },
  {
   "cell_type": "code",
   "execution_count": 8,
   "id": "f4962d63",
   "metadata": {},
   "outputs": [
    {
     "name": "stdout",
     "output_type": "stream",
     "text": [
      "Subtabelas criadas com sucesso!\n"
     ]
    }
   ],
   "source": [
    "# Subtabela 4 - Risk & Stability\n",
    "risk_trade = df[[\n",
    "    \"Country\",\"Date\",\"Credit_Rating\",\"Political_Risk_Score\",\n",
    "    \"Banking_Sector_Health\",\"Real_Estate_Index\",\n",
    "    \"Export_Growth_Percent\",\"Import_Growth_Percent\"\n",
    "]]\n",
    "risk_trade.to_csv(\"risk_trade.csv\", index=False)\n",
    "\n",
    "print(\"Subtabelas criadas com sucesso!\")"
   ]
  }
 ],
 "metadata": {
  "kernelspec": {
   "display_name": "Python 3",
   "language": "python",
   "name": "python3"
  },
  "language_info": {
   "codemirror_mode": {
    "name": "ipython",
    "version": 3
   },
   "file_extension": ".py",
   "mimetype": "text/x-python",
   "name": "python",
   "nbconvert_exporter": "python",
   "pygments_lexer": "ipython3",
   "version": "3.13.5"
  }
 },
 "nbformat": 4,
 "nbformat_minor": 5
}
