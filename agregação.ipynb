{
 "cells": [
  {
   "cell_type": "code",
   "execution_count": 2,
   "id": "0483a0f5",
   "metadata": {},
   "outputs": [],
   "source": [
    "import yfinance as yf\n",
    "import pandas as pd"
   ]
  },
  {
   "cell_type": "code",
   "execution_count": 8,
   "id": "6ab62f6c",
   "metadata": {},
   "outputs": [
    {
     "name": "stderr",
     "output_type": "stream",
     "text": [
      "[*********************100%***********************]  1 of 1 completed\n"
     ]
    }
   ],
   "source": [
    "# Baixar dados históricos do S&P 500\n",
    "dados_sp500 = yf.download(ticker, start=\"2020-01-01\", end=\"2025-09-17\", auto_adjust=True)"
   ]
  },
  {
   "cell_type": "code",
   "execution_count": null,
   "id": "377ae0b7",
   "metadata": {},
   "outputs": [],
   "source": [
    "# Preparar DataFrame no formato do seu market_data\n",
    "dados_sp500 = dados_sp500.reset_index()\n",
    "dados_sp500[\"Country\"] = \"United States\"\n",
    "dados_sp500[\"Stock_Index\"] = \"S&P_500\"\n",
    "dados_sp500[\"Index_Value\"] = dados_sp500[\"Close\"]\n",
    "dados_sp500[\"Daily_Change_Percent\"] = dados_sp500[\"Close\"].pct_change() * 100\n",
    "dados_sp500[\"Market_Cap_Trillion_USD\"] = None  # sem dado direto, pode preencher depois\n",
    "dados_sp500[\"Bond_Yield_10Y_Percent\"] = None   # idem\n",
    "\n",
    "# Selecionar apenas colunas compatíveis\n",
    "dados_sp500 = dados_sp500[[\n",
    "    \"Country\", \"Date\", \"Stock_Index\", \"Index_Value\",\n",
    "    \"Daily_Change_Percent\", \"Market_Cap_Trillion_USD\", \"Bond_Yield_10Y_Percent\"\n",
    "]]"
   ]
  },
  {
   "cell_type": "code",
   "execution_count": 6,
   "id": "d63c6202",
   "metadata": {},
   "outputs": [],
   "source": [
    "# Carregar market_data existente\n",
    "market_data = pd.read_csv(\"market_data.csv\")"
   ]
  },
  {
   "cell_type": "code",
   "execution_count": null,
   "id": "4487bf4a",
   "metadata": {},
   "outputs": [
    {
     "name": "stdout",
     "output_type": "stream",
     "text": [
      "Dados históricos adicionados com sucesso!\n",
      "     Country Date Stock_Index  Index_Value  Daily_Change_Percent  \\\n",
      "1467     NaN  NaN         NaN          NaN                   NaN   \n",
      "1468     NaN  NaN         NaN          NaN                   NaN   \n",
      "1469     NaN  NaN         NaN          NaN                   NaN   \n",
      "1470     NaN  NaN         NaN          NaN                   NaN   \n",
      "1471     NaN  NaN         NaN          NaN                   NaN   \n",
      "\n",
      "      Market_Cap_Trillion_USD  Bond_Yield_10Y_Percent    (Country, )  \\\n",
      "1467                      NaN                     NaN  United States   \n",
      "1468                      NaN                     NaN  United States   \n",
      "1469                      NaN                     NaN  United States   \n",
      "1470                      NaN                     NaN  United States   \n",
      "1471                      NaN                     NaN  United States   \n",
      "\n",
      "       (Date, ) (Stock_Index, )  (Index_Value, )  (Daily_Change_Percent, )  \\\n",
      "1467 2025-09-09         S&P_500      6512.609863                  0.268815   \n",
      "1468 2025-09-10         S&P_500      6532.040039                  0.298347   \n",
      "1469 2025-09-11         S&P_500      6587.470215                  0.848589   \n",
      "1470 2025-09-12         S&P_500      6584.290039                 -0.048276   \n",
      "1471 2025-09-15         S&P_500      6615.279785                  0.470662   \n",
      "\n",
      "     (Market_Cap_Trillion_USD, ) (Bond_Yield_10Y_Percent, )  \n",
      "1467                        None                       None  \n",
      "1468                        None                       None  \n",
      "1469                        None                       None  \n",
      "1470                        None                       None  \n",
      "1471                        None                       None  \n"
     ]
    }
   ],
   "source": [
    "# Concatenar com seu market_data\n",
    "market_data = pd.concat([market_data, dados_sp500], ignore_index=True)\n",
    "\n",
    "print(\"Dados históricos adicionados com sucesso!\")\n",
    "print(market_data.tail())"
   ]
  }
 ],
 "metadata": {
  "kernelspec": {
   "display_name": "Python 3",
   "language": "python",
   "name": "python3"
  },
  "language_info": {
   "codemirror_mode": {
    "name": "ipython",
    "version": 3
   },
   "file_extension": ".py",
   "mimetype": "text/x-python",
   "name": "python",
   "nbconvert_exporter": "python",
   "pygments_lexer": "ipython3",
   "version": "3.13.5"
  }
 },
 "nbformat": 4,
 "nbformat_minor": 5
}
